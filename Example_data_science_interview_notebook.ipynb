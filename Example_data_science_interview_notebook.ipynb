{
  "nbformat": 4,
  "nbformat_minor": 0,
  "metadata": {
    "colab": {
      "name": "Example_data_science_interview_notebook.ipynb",
      "provenance": [],
      "authorship_tag": "ABX9TyMDvnU99saDyVjzZkO0h7cA",
      "include_colab_link": true
    },
    "kernelspec": {
      "name": "python3",
      "display_name": "Python 3"
    },
    "language_info": {
      "name": "python"
    }
  },
  "cells": [
    {
      "cell_type": "markdown",
      "metadata": {
        "id": "view-in-github",
        "colab_type": "text"
      },
      "source": [
        "<a href=\"https://colab.research.google.com/github/chopley/AVNDigitalBackendDocumentation/blob/master/Example_data_science_interview_notebook.ipynb\" target=\"_parent\"><img src=\"https://colab.research.google.com/assets/colab-badge.svg\" alt=\"Open In Colab\"/></a>"
      ]
    },
    {
      "cell_type": "markdown",
      "source": [
        "Can you generate and plot two normal distributions (N=100) with a(mu=1,std_dev=0.5) and b(mu =2, std_dev=0.2) on the same axis.\n"
      ],
      "metadata": {
        "id": "NW8vid9NQR4Y"
      }
    },
    {
      "cell_type": "code",
      "source": [
        "import pandas as pd\n",
        "import numpy as np"
      ],
      "metadata": {
        "id": "g7PmTfbyQPMl"
      },
      "execution_count": 37,
      "outputs": []
    },
    {
      "cell_type": "code",
      "source": [
        "a = np.random.normal(loc=1,scale=0.5, size = 100)\n",
        "b = np.random.normal(loc=2,scale=0.2, size = 100)"
      ],
      "metadata": {
        "id": "Scz1L331QVJn"
      },
      "execution_count": 38,
      "outputs": []
    },
    {
      "cell_type": "code",
      "source": [
        "a_df = pd.DataFrame(a)\n",
        "b_df = pd.DataFrame(b)"
      ],
      "metadata": {
        "id": "dzVzh7uJQfRQ"
      },
      "execution_count": 39,
      "outputs": []
    },
    {
      "cell_type": "code",
      "source": [
        "ax = a_df.hist()\n",
        "b_df.hist(ax=ax)"
      ],
      "metadata": {
        "colab": {
          "base_uri": "https://localhost:8080/",
          "height": 316
        },
        "id": "FkyFw3H-QgH2",
        "outputId": "ad8c4ef9-c592-4c59-f3e0-0e1cf9605632"
      },
      "execution_count": 40,
      "outputs": [
        {
          "output_type": "execute_result",
          "data": {
            "text/plain": [
              "array([[<matplotlib.axes._subplots.AxesSubplot object at 0x7f66dded92d0>]],\n",
              "      dtype=object)"
            ]
          },
          "metadata": {},
          "execution_count": 40
        },
        {
          "output_type": "display_data",
          "data": {
            "image/png": "[encoded data removed]",
            "text/plain": [
              "<Figure size 432x288 with 1 Axes>"
            ]
          },
          "metadata": {
            "needs_background": "light"
          }
        }
      ]
    },
    {
      "cell_type": "code",
      "source": [
        "from scipy.stats import ks_2samp\n",
        "from scipy.stats import ttest_ind"
      ],
      "metadata": {
        "id": "7385XPvMRABr"
      },
      "execution_count": 41,
      "outputs": []
    },
    {
      "cell_type": "code",
      "source": [
        "ks_test = ks_2samp(a_df.iloc[:, 0].values, b_df.iloc[:, 0].values)\n",
        "t_test = ttest_ind(a_df.iloc[:, 0].values, b_df.iloc[:, 0].values)"
      ],
      "metadata": {
        "id": "azA6umHGRdrI"
      },
      "execution_count": 42,
      "outputs": []
    },
    {
      "cell_type": "code",
      "source": [
        "ks_test,t_test"
      ],
      "metadata": {
        "colab": {
          "base_uri": "https://localhost:8080/"
        },
        "id": "QnBnvUG1RoKk",
        "outputId": "0a50d6ca-c3e2-4931-c2ed-d89bf32189b0"
      },
      "execution_count": 43,
      "outputs": [
        {
          "output_type": "execute_result",
          "data": {
            "text/plain": [
              "(Ks_2sampResult(statistic=0.9, pvalue=4.958889584060123e-43),\n",
              " Ttest_indResult(statistic=-20.38360398804563, pvalue=1.6348359325230332e-50))"
            ]
          },
          "metadata": {},
          "execution_count": 43
        }
      ]
    },
    {
      "cell_type": "code",
      "source": [
        "! git clone https://github.com/chopley/data_science_interviews.git"
      ],
      "metadata": {
        "colab": {
          "base_uri": "https://localhost:8080/"
        },
        "id": "a6DTGi1HSjD4",
        "outputId": "a910606f-abf6-41cb-9f6e-47605e0fccda"
      },
      "execution_count": 49,
      "outputs": [
        {
          "output_type": "stream",
          "name": "stdout",
          "text": [
            "Cloning into 'data_science_interviews'...\n",
            "fatal: could not read Password for 'https://chopley@github.com': No such device or address\n"
          ]
        }
      ]
    },
    {
      "cell_type": "markdown",
      "source": [
        "Can you estimate the"
      ],
      "metadata": {
        "id": "bi6pbgYqS5VM"
      }
    },
    {
      "cell_type": "code",
      "source": [
        "data_example = []"
      ],
      "metadata": {
        "id": "lkKVL5B8S9-W"
      },
      "execution_count": null,
      "outputs": []
    }
  ]
}